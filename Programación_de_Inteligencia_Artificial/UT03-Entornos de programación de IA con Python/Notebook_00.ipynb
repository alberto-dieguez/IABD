{
  "nbformat": 4,
  "nbformat_minor": 0,
  "metadata": {
    "colab": {
      "provenance": []
    },
    "kernelspec": {
      "name": "python3",
      "display_name": "Python 3"
    },
    "language_info": {
      "name": "python"
    }
  },
  "cells": [
    {
      "cell_type": "markdown",
      "source": [
        "\n",
        "# Tarea PIA 03\n",
        "\n",
        "## Uso de Google Colab y Python"
      ],
      "metadata": {
        "id": "ACy__eBGD9Fe"
      }
    },
    {
      "cell_type": "markdown",
      "source": [
        "Importamos **this**"
      ],
      "metadata": {
        "id": "umPPkKIhEpnv"
      }
    },
    {
      "cell_type": "code",
      "execution_count": 2,
      "metadata": {
        "colab": {
          "base_uri": "https://localhost:8080/"
        },
        "id": "Q1NEPrHt8mjl",
        "outputId": "1ba77bed-18bd-4328-c7a5-0454c6772474"
      },
      "outputs": [
        {
          "output_type": "stream",
          "name": "stdout",
          "text": [
            "The Zen of Python, by Tim Peters\n",
            "\n",
            "Beautiful is better than ugly.\n",
            "Explicit is better than implicit.\n",
            "Simple is better than complex.\n",
            "Complex is better than complicated.\n",
            "Flat is better than nested.\n",
            "Sparse is better than dense.\n",
            "Readability counts.\n",
            "Special cases aren't special enough to break the rules.\n",
            "Although practicality beats purity.\n",
            "Errors should never pass silently.\n",
            "Unless explicitly silenced.\n",
            "In the face of ambiguity, refuse the temptation to guess.\n",
            "There should be one-- and preferably only one --obvious way to do it.\n",
            "Although that way may not be obvious at first unless you're Dutch.\n",
            "Now is better than never.\n",
            "Although never is often better than *right* now.\n",
            "If the implementation is hard to explain, it's a bad idea.\n",
            "If the implementation is easy to explain, it may be a good idea.\n",
            "Namespaces are one honking great idea -- let's do more of those!\n"
          ]
        }
      ],
      "source": [
        "import this"
      ]
    },
    {
      "cell_type": "markdown",
      "source": [
        "Creamos una **lista** con el nombre de *10 ciudades*"
      ],
      "metadata": {
        "id": "Ji0c5c1DEtix"
      }
    },
    {
      "cell_type": "code",
      "source": [
        "# Crea una lista con 10 nombres de ciudades\n",
        "ciudades = [\"Ávila\", \"Burgos\", \"León\", \"Palencia\", \"Salamanca\",\n",
        "            \"Segovia\", \"Soria\", \"Valladolid\", \"Zamora\", \"Valencia\"]\n",
        "\n",
        "# Mostrar las ciudades\n",
        "print(ciudades)\n"
      ],
      "metadata": {
        "colab": {
          "base_uri": "https://localhost:8080/"
        },
        "id": "Hh-mD65s9_hJ",
        "outputId": "a5b9783c-bbb4-451d-9a34-1a9db052ce18"
      },
      "execution_count": 3,
      "outputs": [
        {
          "output_type": "stream",
          "name": "stdout",
          "text": [
            "['Ávila', 'Burgos', 'León', 'Palencia', 'Salamanca', 'Segovia', 'Soria', 'Valladolid', 'Zamora', 'Valencia']\n"
          ]
        }
      ]
    },
    {
      "cell_type": "markdown",
      "source": [
        "Creamos una **lista** con 10 nombres de cantantes. En este caso son cantantes de *Operacion Triunfo*.\n",
        "\n",
        "![OT](https://pm1.aminoapps.com/6653/a287a6d56d024449628aea16c98f5e891b87d2f4_128.jpg)"
      ],
      "metadata": {
        "id": "reBPoABTE2jO"
      }
    },
    {
      "cell_type": "code",
      "source": [
        "# Crea una lista con 10 nombres de cantantes\n",
        "cantantes = [\"David Bisbal\", \"Chenoa\", \"David Bustamante\", \"Manuel Carrasco\", \"Nena Daconte\",\n",
        "            \"Edurne\", \"Pablo López\", \"Aitana\", \"Lola Indigo\", \"Amaia\"]\n",
        "\n",
        "# Mostrar los cantantes\n",
        "print(cantantes)"
      ],
      "metadata": {
        "colab": {
          "base_uri": "https://localhost:8080/"
        },
        "id": "yZWuLj7L-w82",
        "outputId": "06b3eaae-4391-4674-837a-00d8d934506b"
      },
      "execution_count": 4,
      "outputs": [
        {
          "output_type": "stream",
          "name": "stdout",
          "text": [
            "['David Bisbal', 'Chenoa', 'David Bustamante', 'Manuel Carrasco', 'Nena Daconte', 'Edurne', 'Pablo López', 'Aitana', 'Lola Indigo', 'Amaia']\n"
          ]
        }
      ]
    },
    {
      "cell_type": "markdown",
      "source": [
        "Creamos un diccionario con el nombre como *clave* y la ciudad como *valor*"
      ],
      "metadata": {
        "id": "WMhz2NO_GH0n"
      }
    },
    {
      "cell_type": "code",
      "source": [
        "# Crear un diccionario con el nombre del cantante como clave y el nombre de la ciudad como valor\n",
        "cantantes_ciudades = dict(zip(cantantes, ciudades))\n",
        "\n",
        "# Mostrar el diccionario\n",
        "print(cantantes_ciudades)\n"
      ],
      "metadata": {
        "colab": {
          "base_uri": "https://localhost:8080/"
        },
        "id": "QRERfCPs_sqW",
        "outputId": "9d30b249-76a5-4e03-d4f9-4f729007024e"
      },
      "execution_count": 6,
      "outputs": [
        {
          "output_type": "stream",
          "name": "stdout",
          "text": [
            "{'David Bisbal': 'Ávila', 'Chenoa': 'Burgos', 'David Bustamante': 'León', 'Manuel Carrasco': 'Palencia', 'Nena Daconte': 'Salamanca', 'Edurne': 'Segovia', 'Pablo López': 'Soria', 'Aitana': 'Valladolid', 'Lola Indigo': 'Zamora', 'Amaia': 'Valencia'}\n"
          ]
        }
      ]
    },
    {
      "cell_type": "markdown",
      "source": [
        "Hacemos print utilizando cada cantante con la ciudad que se le asignó en el diccionario."
      ],
      "metadata": {
        "id": "lODvG3nSGRuU"
      }
    },
    {
      "cell_type": "code",
      "source": [
        "print(\"Estos son los conciertos para esta semana: \", \"\\n\")\n",
        "\n",
        "for cantante, ciudad in cantantes_ciudades.items():\n",
        "    print(f\"{cantante} en {ciudad}\")"
      ],
      "metadata": {
        "colab": {
          "base_uri": "https://localhost:8080/"
        },
        "id": "-98i6UMTA_Xl",
        "outputId": "e3eebbea-30e3-49f8-f15c-f3765fd2d9be"
      },
      "execution_count": 11,
      "outputs": [
        {
          "output_type": "stream",
          "name": "stdout",
          "text": [
            "Estos son los conciertos para esta semana:  \n",
            "\n",
            "David Bisbal en Ávila\n",
            "Chenoa en Burgos\n",
            "David Bustamante en León\n",
            "Manuel Carrasco en Palencia\n",
            "Nena Daconte en Salamanca\n",
            "Edurne en Segovia\n",
            "Pablo López en Soria\n",
            "Aitana en Valladolid\n",
            "Lola Indigo en Zamora\n",
            "Amaia en Valencia\n"
          ]
        }
      ]
    },
    {
      "cell_type": "markdown",
      "source": [
        "Hacemos lo mismo que el ejercicio anterior, pero primero mezclamos las ciudades."
      ],
      "metadata": {
        "id": "beNl7RnFGahI"
      }
    },
    {
      "cell_type": "code",
      "source": [
        "import random\n",
        "\n",
        "# Ordenamos aleatoriamente las ciudades\n",
        "random.shuffle(ciudades)\n",
        "\n",
        "# Actualizamos el diccionario\n",
        "cantantes_ciudades = dict(zip(cantantes, ciudades))\n",
        "\n",
        "for cantante, ciudad in cantantes_ciudades.items():\n",
        "    print(f\"{cantante} en {ciudad}\")"
      ],
      "metadata": {
        "colab": {
          "base_uri": "https://localhost:8080/"
        },
        "id": "OKtLR0S7CQLz",
        "outputId": "b9fd76f2-eb80-4081-ae6b-bde37b30325a"
      },
      "execution_count": 13,
      "outputs": [
        {
          "output_type": "stream",
          "name": "stdout",
          "text": [
            "David Bisbal en Valladolid\n",
            "Chenoa en Burgos\n",
            "David Bustamante en Soria\n",
            "Manuel Carrasco en Zamora\n",
            "Nena Daconte en Segovia\n",
            "Edurne en Ávila\n",
            "Pablo López en Valencia\n",
            "Aitana en León\n",
            "Lola Indigo en Salamanca\n",
            "Amaia en Palencia\n"
          ]
        }
      ]
    },
    {
      "cell_type": "markdown",
      "source": [
        "Para realizar esta tarea se ha utilizado la documentación de Python.\n",
        "Puedes acceder a ella mediante el siguiente enlace. [Documentación de Python](https://docs.python.org/3/)"
      ],
      "metadata": {
        "id": "sSuV-YFbGiXg"
      }
    }
  ]
}